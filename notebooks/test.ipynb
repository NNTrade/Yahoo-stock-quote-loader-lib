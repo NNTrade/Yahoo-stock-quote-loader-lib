{
 "cells": [
  {
   "cell_type": "code",
   "execution_count": 10,
   "metadata": {},
   "outputs": [],
   "source": [
    "import logging\n",
    "from NNTrade.datasource.stock_quote_loader_lib.loader.yahoo import YahooStockQuoteLoader\n",
    "from NNTrade.datasource.stock_quote_loader_lib.loader.config import QuoteRequest, ChartConfig\n",
    "from NNTrade.common.time_frame import TimeFrame\n",
    "from NNTrade.datasource.stock_quote_loader_lib.cache import FileCache\n",
    "from datetime import date,datetime\n",
    "from src.dto.candleDto import CandleDto\n"
   ]
  },
  {
   "cell_type": "code",
   "execution_count": 11,
   "metadata": {},
   "outputs": [],
   "source": [
    "import logging\n",
    "\n",
    "logging.basicConfig(format='\\033[93m%(asctime)s %(levelname)s %(name)s:\\033[0m %(message)s', level=logging.INFO, datefmt='%I:%M:%S')\n",
    "import warnings\n",
    "import pandas as pd\n",
    "\n",
    "warnings.simplefilter(action='ignore', category=pd.errors.PerformanceWarning)\n",
    "warnings.simplefilter(action=\"ignore\", category=pd.errors.SettingWithCopyWarning)"
   ]
  },
  {
   "cell_type": "code",
   "execution_count": null,
   "metadata": {},
   "outputs": [],
   "source": []
  },
  {
   "cell_type": "code",
   "execution_count": 12,
   "metadata": {},
   "outputs": [
    {
     "name": "stderr",
     "output_type": "stream",
     "text": [
      "\u001b[93m12:20:37 INFO AbsStockQuoteLoader:\u001b[0m No cached data\n",
      "\u001b[93m12:20:37 INFO func yahoo_loader.load_stock_candles:\u001b[0m Start download from yahoo finance\n",
      "\u001b[93m12:20:37 INFO func yahoo_loader.load_stock_candles:\u001b[0m Download stock EURUSD=X timeframe DAY\n"
     ]
    },
    {
     "name": "stdout",
     "output_type": "stream",
     "text": [
      "[*********************100%***********************]  1 of 1 completed"
     ]
    },
    {
     "name": "stderr",
     "output_type": "stream",
     "text": [
      "\u001b[93m12:20:38 INFO AbsStockQuoteLoader:\u001b[0m Save df into cache\n",
      "\u001b[93m12:20:38 INFO FileCache:\u001b[0m Save df into file ./cached_files/Yahoo__EURUSD=X__Day__2020-02-03__2020-02-06.csv\n"
     ]
    },
    {
     "name": "stdout",
     "output_type": "stream",
     "text": [
      "\n"
     ]
    },
    {
     "data": {
      "text/html": [
       "<div>\n",
       "<style scoped>\n",
       "    .dataframe tbody tr th:only-of-type {\n",
       "        vertical-align: middle;\n",
       "    }\n",
       "\n",
       "    .dataframe tbody tr th {\n",
       "        vertical-align: top;\n",
       "    }\n",
       "\n",
       "    .dataframe thead th {\n",
       "        text-align: right;\n",
       "    }\n",
       "</style>\n",
       "<table border=\"1\" class=\"dataframe\">\n",
       "  <thead>\n",
       "    <tr style=\"text-align: right;\">\n",
       "      <th></th>\n",
       "      <th>open</th>\n",
       "      <th>high</th>\n",
       "      <th>low</th>\n",
       "      <th>close</th>\n",
       "      <th>volume</th>\n",
       "    </tr>\n",
       "    <tr>\n",
       "      <th>start_date_time</th>\n",
       "      <th></th>\n",
       "      <th></th>\n",
       "      <th></th>\n",
       "      <th></th>\n",
       "      <th></th>\n",
       "    </tr>\n",
       "  </thead>\n",
       "  <tbody>\n",
       "    <tr>\n",
       "      <th>2020-02-03</th>\n",
       "      <td>1.108906</td>\n",
       "      <td>1.108906</td>\n",
       "      <td>1.104350</td>\n",
       "      <td>1.108979</td>\n",
       "      <td>0</td>\n",
       "    </tr>\n",
       "    <tr>\n",
       "      <th>2020-02-04</th>\n",
       "      <td>1.106293</td>\n",
       "      <td>1.106562</td>\n",
       "      <td>1.103387</td>\n",
       "      <td>1.106293</td>\n",
       "      <td>0</td>\n",
       "    </tr>\n",
       "    <tr>\n",
       "      <th>2020-02-05</th>\n",
       "      <td>1.104472</td>\n",
       "      <td>1.104850</td>\n",
       "      <td>1.099832</td>\n",
       "      <td>1.104728</td>\n",
       "      <td>0</td>\n",
       "    </tr>\n",
       "  </tbody>\n",
       "</table>\n",
       "</div>"
      ],
      "text/plain": [
       "                     open      high       low     close  volume\n",
       "start_date_time                                                \n",
       "2020-02-03       1.108906  1.108906  1.104350  1.108979       0\n",
       "2020-02-04       1.106293  1.106562  1.103387  1.106293       0\n",
       "2020-02-05       1.104472  1.104850  1.099832  1.104728       0"
      ]
     },
     "execution_count": 12,
     "metadata": {},
     "output_type": "execute_result"
    }
   ],
   "source": [
    "cache = FileCache(\"./cached_files\")\n",
    "expected_request = QuoteRequest(ChartConfig(\"EURUSD=X\",TimeFrame.D), date(2020,2,3), date(2020,2,6))\n",
    "expected_df = YahooStockQuoteLoader(cache).download( expected_request)\n",
    "expected_df"
   ]
  },
  {
   "cell_type": "code",
   "execution_count": 13,
   "metadata": {},
   "outputs": [],
   "source": [
    "tmp_df = expected_df.copy()\n",
    "tmp_df.index.name = \"date_open\"\n",
    "tmp_df = tmp_df.reset_index()"
   ]
  },
  {
   "cell_type": "code",
   "execution_count": 14,
   "metadata": {},
   "outputs": [
    {
     "data": {
      "text/html": [
       "<div>\n",
       "<style scoped>\n",
       "    .dataframe tbody tr th:only-of-type {\n",
       "        vertical-align: middle;\n",
       "    }\n",
       "\n",
       "    .dataframe tbody tr th {\n",
       "        vertical-align: top;\n",
       "    }\n",
       "\n",
       "    .dataframe thead th {\n",
       "        text-align: right;\n",
       "    }\n",
       "</style>\n",
       "<table border=\"1\" class=\"dataframe\">\n",
       "  <thead>\n",
       "    <tr style=\"text-align: right;\">\n",
       "      <th></th>\n",
       "      <th>date_open</th>\n",
       "      <th>open</th>\n",
       "      <th>high</th>\n",
       "      <th>low</th>\n",
       "      <th>close</th>\n",
       "      <th>volume</th>\n",
       "    </tr>\n",
       "  </thead>\n",
       "  <tbody>\n",
       "    <tr>\n",
       "      <th>0</th>\n",
       "      <td>2020-02-03</td>\n",
       "      <td>1.108906</td>\n",
       "      <td>1.108906</td>\n",
       "      <td>1.104350</td>\n",
       "      <td>1.108979</td>\n",
       "      <td>0</td>\n",
       "    </tr>\n",
       "    <tr>\n",
       "      <th>1</th>\n",
       "      <td>2020-02-04</td>\n",
       "      <td>1.106293</td>\n",
       "      <td>1.106562</td>\n",
       "      <td>1.103387</td>\n",
       "      <td>1.106293</td>\n",
       "      <td>0</td>\n",
       "    </tr>\n",
       "    <tr>\n",
       "      <th>2</th>\n",
       "      <td>2020-02-05</td>\n",
       "      <td>1.104472</td>\n",
       "      <td>1.104850</td>\n",
       "      <td>1.099832</td>\n",
       "      <td>1.104728</td>\n",
       "      <td>0</td>\n",
       "    </tr>\n",
       "  </tbody>\n",
       "</table>\n",
       "</div>"
      ],
      "text/plain": [
       "   date_open      open      high       low     close  volume\n",
       "0 2020-02-03  1.108906  1.108906  1.104350  1.108979       0\n",
       "1 2020-02-04  1.106293  1.106562  1.103387  1.106293       0\n",
       "2 2020-02-05  1.104472  1.104850  1.099832  1.104728       0"
      ]
     },
     "execution_count": 14,
     "metadata": {},
     "output_type": "execute_result"
    }
   ],
   "source": [
    "tmp_df"
   ]
  },
  {
   "cell_type": "code",
   "execution_count": 15,
   "metadata": {},
   "outputs": [],
   "source": [
    "from NNTrade.common.candle_col_name import OPEN, CLOSE, HIGH, LOW, VOLUME"
   ]
  },
  {
   "cell_type": "code",
   "execution_count": 19,
   "metadata": {},
   "outputs": [
    {
     "data": {
      "text/plain": [
       "[datetime.date(2020, 2, 3),\n",
       " datetime.date(2020, 2, 4),\n",
       " datetime.date(2020, 2, 5)]"
      ]
     },
     "execution_count": 19,
     "metadata": {},
     "output_type": "execute_result"
    }
   ],
   "source": [
    "[kwargs['date_open'].date() for kwargs in tmp_df.to_dict(orient='records')]"
   ]
  },
  {
   "cell_type": "code",
   "execution_count": 6,
   "metadata": {},
   "outputs": [
    {
     "data": {
      "text/plain": [
       "datetime.date(2020, 2, 3)"
      ]
     },
     "execution_count": 6,
     "metadata": {},
     "output_type": "execute_result"
    }
   ],
   "source": [
    "dt = datetime.strptime(\"2020-02-03\", \"%Y-%m-%d\").date()\n",
    "dt"
   ]
  },
  {
   "cell_type": "code",
   "execution_count": 7,
   "metadata": {},
   "outputs": [],
   "source": [
    "tmp_df[\"date_open\"] = pd.to_datetime(tmp_df['date_open'], format=\"%Y-%m-%d\")"
   ]
  },
  {
   "cell_type": "code",
   "execution_count": 8,
   "metadata": {},
   "outputs": [
    {
     "name": "stdout",
     "output_type": "stream",
     "text": [
      "<class 'pandas.core.frame.DataFrame'>\n",
      "RangeIndex: 3 entries, 0 to 2\n",
      "Data columns (total 6 columns):\n",
      " #   Column     Non-Null Count  Dtype         \n",
      "---  ------     --------------  -----         \n",
      " 0   date_open  3 non-null      datetime64[ns]\n",
      " 1   open       3 non-null      float64       \n",
      " 2   high       3 non-null      float64       \n",
      " 3   low        3 non-null      float64       \n",
      " 4   close      3 non-null      float64       \n",
      " 5   volume     3 non-null      int64         \n",
      "dtypes: datetime64[ns](1), float64(4), int64(1)\n",
      "memory usage: 272.0 bytes\n"
     ]
    }
   ],
   "source": [
    "tmp_df.info()"
   ]
  },
  {
   "cell_type": "code",
   "execution_count": 9,
   "metadata": {},
   "outputs": [
    {
     "data": {
      "text/plain": [
       "datetime.date(2020, 2, 3)"
      ]
     },
     "execution_count": 9,
     "metadata": {},
     "output_type": "execute_result"
    }
   ],
   "source": [
    "CandleDto.from_df(expected_df)[0].date_open"
   ]
  },
  {
   "cell_type": "code",
   "execution_count": 11,
   "metadata": {},
   "outputs": [
    {
     "data": {
      "text/html": [
       "<div>\n",
       "<style scoped>\n",
       "    .dataframe tbody tr th:only-of-type {\n",
       "        vertical-align: middle;\n",
       "    }\n",
       "\n",
       "    .dataframe tbody tr th {\n",
       "        vertical-align: top;\n",
       "    }\n",
       "\n",
       "    .dataframe thead th {\n",
       "        text-align: right;\n",
       "    }\n",
       "</style>\n",
       "<table border=\"1\" class=\"dataframe\">\n",
       "  <thead>\n",
       "    <tr style=\"text-align: right;\">\n",
       "      <th></th>\n",
       "      <th>open</th>\n",
       "      <th>high</th>\n",
       "      <th>low</th>\n",
       "      <th>close</th>\n",
       "      <th>volume</th>\n",
       "    </tr>\n",
       "    <tr>\n",
       "      <th>date_open</th>\n",
       "      <th></th>\n",
       "      <th></th>\n",
       "      <th></th>\n",
       "      <th></th>\n",
       "      <th></th>\n",
       "    </tr>\n",
       "  </thead>\n",
       "  <tbody>\n",
       "    <tr>\n",
       "      <th>2020-02-03</th>\n",
       "      <td>1.108906</td>\n",
       "      <td>1.108906</td>\n",
       "      <td>1.104350</td>\n",
       "      <td>1.108979</td>\n",
       "      <td>0</td>\n",
       "    </tr>\n",
       "    <tr>\n",
       "      <th>2020-02-04</th>\n",
       "      <td>1.106293</td>\n",
       "      <td>1.106562</td>\n",
       "      <td>1.103387</td>\n",
       "      <td>1.106293</td>\n",
       "      <td>0</td>\n",
       "    </tr>\n",
       "    <tr>\n",
       "      <th>2020-02-05</th>\n",
       "      <td>1.104472</td>\n",
       "      <td>1.104850</td>\n",
       "      <td>1.099832</td>\n",
       "      <td>1.104728</td>\n",
       "      <td>0</td>\n",
       "    </tr>\n",
       "  </tbody>\n",
       "</table>\n",
       "</div>"
      ],
      "text/plain": [
       "                open      high       low     close  volume\n",
       "date_open                                                 \n",
       "2020-02-03  1.108906  1.108906  1.104350  1.108979       0\n",
       "2020-02-04  1.106293  1.106562  1.103387  1.106293       0\n",
       "2020-02-05  1.104472  1.104850  1.099832  1.104728       0"
      ]
     },
     "execution_count": 11,
     "metadata": {},
     "output_type": "execute_result"
    }
   ],
   "source": [
    "expected_df.index.name = \"date_open\"\n",
    "expected_df"
   ]
  }
 ],
 "metadata": {
  "kernelspec": {
   "display_name": "Python 3",
   "language": "python",
   "name": "python3"
  },
  "language_info": {
   "codemirror_mode": {
    "name": "ipython",
    "version": 3
   },
   "file_extension": ".py",
   "mimetype": "text/x-python",
   "name": "python",
   "nbconvert_exporter": "python",
   "pygments_lexer": "ipython3",
   "version": "3.11.1"
  },
  "orig_nbformat": 4,
  "vscode": {
   "interpreter": {
    "hash": "949777d72b0d2535278d3dc13498b2535136f6dfe0678499012e853ee9abcab1"
   }
  }
 },
 "nbformat": 4,
 "nbformat_minor": 2
}
